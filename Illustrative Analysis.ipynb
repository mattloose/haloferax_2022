{
 "cells": [
  {
   "cell_type": "markdown",
   "id": "6c1c9083-e0a7-4c06-b840-8db1e3d5491b",
   "metadata": {},
   "source": [
    "# HaloFerax Recombination Project Illustration (simulated data)."
   ]
  },
  {
   "cell_type": "markdown",
   "id": "1fdb2aa4-8ce4-457e-9298-d7c95cb6b5e7",
   "metadata": {},
   "source": [
    "### Housekeeping\n",
    "Our first step is to import some tools that we will need for our anaylsis.\n",
    "\n",
    "There are a lot of things here and we will talk our way through some of them."
   ]
  },
  {
   "cell_type": "code",
   "execution_count": null,
   "id": "4f4ed568-ba82-4eca-8c75-3e90bdd640f8",
   "metadata": {},
   "outputs": [],
   "source": [
    "#This hides some warnings that we might want to look at one day if our code doesn't work!\n",
    "import warnings\n",
    "warnings.filterwarnings('ignore')\n",
    "\n",
    "#These are various graph plotting and data processing tools we may use.\n",
    "from bokeh.io import output_notebook\n",
    "from bokeh.plotting import figure, show\n",
    "import numpy as np\n",
    "import pandas as pd\n",
    "\n",
    "#This is a nice plotting library that will also do some pretty graphics for us.\n",
    "import aplanat\n",
    "from aplanat import points\n",
    "from aplanat import graphics\n",
    "from aplanat.hist import histogram\n",
    "from bokeh.layouts import gridplot\n",
    "\n",
    "import pysam\n",
    "\n",
    "from aplanat.lines import steps"
   ]
  },
  {
   "cell_type": "markdown",
   "id": "1c123513-7238-4622-85c5-b79e1fc8de15",
   "metadata": {},
   "source": [
    "## Alignment\n",
    "We will first need to compare our sequenced reads with the reference genome to determine which reads are like which reference. We will do this in a few different ways to see how it is possible."
   ]
  },
  {
   "cell_type": "markdown",
   "id": "51e2c0d7-dc89-4fbe-bd45-d22c709be968",
   "metadata": {},
   "source": [
    "We need to define the reference sequence we are going to map our data to. In this case it will be a merged reference for our two reference genomes.\n",
    "\n",
    "We will have a look at these files in the terminal."
   ]
  },
  {
   "cell_type": "code",
   "execution_count": null,
   "id": "c867e1ac-29f4-42f2-8c9f-8699139a81f6",
   "metadata": {},
   "outputs": [],
   "source": [
    "reference = \"~/student_projects_2022/data/refs/merged_refs.fasta\""
   ]
  },
  {
   "cell_type": "markdown",
   "id": "9cb36a4e-1cf5-46ef-8e2b-eed13c3d28ff",
   "metadata": {},
   "source": [
    "We next need to find our sequence reads that we are going to map. These will be all compressed as fastq.gz files.\n",
    "\n",
    "A fastq file consists of four lines for each \"read\".\n",
    "\n",
    "These are:\n",
    "\n",
    "\\@ReadName\n",
    "ATGC\n",
    ".\n",
    "!@£&\n",
    "\n",
    "Where the first line is the read name.\n",
    "The second line is the read sequence.\n",
    "The third line is a divider.\n",
    "The fourth line is a quality score (encoded in ascii).\n"
   ]
  },
  {
   "cell_type": "code",
   "execution_count": null,
   "id": "a8ed4d57-1835-4eaa-8707-32faa9459f0f",
   "metadata": {},
   "outputs": [],
   "source": [
    "reads = \"~/student_projects_2022/data/reads/run1/*.fastq.gz\""
   ]
  },
  {
   "cell_type": "markdown",
   "id": "3690c824-e870-45e3-a603-d16406a302f6",
   "metadata": {},
   "source": [
    "Now we are going to map our reads against the reference using a program called minimap2. You can find out more about minimap2 here: https://github.com/lh3/minimap2\n",
    "\n",
    "The paper describing minimap2 is available here:\n",
    "https://pubmed.ncbi.nlm.nih.gov/29750242/"
   ]
  },
  {
   "cell_type": "code",
   "execution_count": null,
   "id": "857520a3-5b00-462b-b985-714cf1ccf516",
   "metadata": {},
   "outputs": [],
   "source": [
    "!minimap2 -ax map-ont -t 4 $reference $reads > reads_reference.sam\n"
   ]
  },
  {
   "cell_type": "markdown",
   "id": "fcf62fe0-ce5b-4e79-8902-5cb87d14d290",
   "metadata": {},
   "source": [
    "We've now generated a sam file - SAM Sequence Alignment Map.\n",
    "\n",
    "These files are big and messy - we want to sort the file so we can look at our data. We also want to store it efficiently. So we are going to convert it to a bam file - this is a Binary sequence Aligment File.\n",
    "\n",
    "To do this, we will use a program called SAMTOOLS:\n",
    "\n",
    "See - http://www.htslib.org/\n"
   ]
  },
  {
   "cell_type": "code",
   "execution_count": null,
   "id": "52a9384c-be3f-43c6-ab32-e3b4664b6370",
   "metadata": {},
   "outputs": [],
   "source": [
    "!samtools sort -o sorted.reads_reference.bam reads_reference.sam"
   ]
  },
  {
   "cell_type": "markdown",
   "id": "fc0bb73c-2a4a-4c56-addf-7e6672f0c351",
   "metadata": {},
   "source": [
    "The problem with a bam file is it is hard to look at - so we want to have an index that allows us to find what we need."
   ]
  },
  {
   "cell_type": "code",
   "execution_count": null,
   "id": "7cdce4e2-e840-4ccb-8d44-f0f8bb639d56",
   "metadata": {},
   "outputs": [],
   "source": [
    "!samtools index sorted.reads_reference.bam"
   ]
  },
  {
   "cell_type": "markdown",
   "id": "e008835e-0be5-478e-a4ef-8d1dabe79200",
   "metadata": {},
   "source": [
    "OK - Great! Now - what do these files look like?\n",
    "To answer this we need to use another feature of samtools - samtools view."
   ]
  },
  {
   "cell_type": "code",
   "execution_count": null,
   "id": "99b1e38d-dc01-4d9b-981a-bae265f8866a",
   "metadata": {
    "jupyter": {
     "outputs_hidden": true
    },
    "tags": []
   },
   "outputs": [],
   "source": [
    "# view the first 10 lines of the bam file\n",
    "!samtools view -h sorted.reads_reference.bam 2> /dev/null | head -n 10"
   ]
  },
  {
   "cell_type": "markdown",
   "id": "9a2abeac-87ee-47ee-86ad-ce09e8f5cc4e",
   "metadata": {},
   "source": [
    "OK - that's not very easy to understand. Can we get some more information on what is happening here?\n",
    "\n",
    "What is a sam file?\n",
    "\n",
    "Its a way of storing alignments to a reference. \n",
    "\n",
    "Can we get more information from it?\n"
   ]
  },
  {
   "cell_type": "code",
   "execution_count": null,
   "id": "f4de0f08",
   "metadata": {},
   "outputs": [],
   "source": [
    "# count the alignments in a file\n",
    "!samtools view -bc sorted.reads_reference.bam"
   ]
  },
  {
   "cell_type": "markdown",
   "id": "f73eee5e",
   "metadata": {},
   "source": [
    "We can get more detailed information on this file by looking at the statistics for reads contained within it."
   ]
  },
  {
   "cell_type": "code",
   "execution_count": null,
   "id": "914c4892",
   "metadata": {},
   "outputs": [],
   "source": [
    "!samtools flagstat sorted.reads_reference.bam"
   ]
  },
  {
   "cell_type": "markdown",
   "id": "42e5c017",
   "metadata": {},
   "source": [
    "We can analyse the file in more detail by generating some more advanced statistics using a program called stats_from_bam which comes from a package called pomoxis."
   ]
  },
  {
   "cell_type": "code",
   "execution_count": null,
   "id": "53ca711b",
   "metadata": {},
   "outputs": [],
   "source": [
    "# run the alignment summarizer program\n",
    "!stats_from_bam sorted.reads_reference.bam > sorted.reads_reference.bam.stats\n",
    "\n",
    "# use python to plot the results\n",
    "import pandas as pd\n",
    "import aplanat\n",
    "from aplanat.hist import histogram\n",
    "from bokeh.layouts import gridplot\n",
    "df = pd.read_csv(\"sorted.reads_reference.bam.stats\", sep=\"\\t\")\n",
    "\n",
    "p1 = histogram(\n",
    "    [df['read_length']], title=\"Read lengths\",\n",
    "    x_axis_label=\"read length / bases\", y_axis_label=\"count\")\n",
    "p1.xaxis.formatter.use_scientific = False\n",
    "p2 = histogram(\n",
    "    [df['acc']], title=\"Read accuracy\",\n",
    "    x_axis_label=\"% accuracy\", y_axis_label=\"count\")\n",
    "aplanat.show(gridplot((p1, p2), ncols=2))"
   ]
  },
  {
   "cell_type": "markdown",
   "id": "5fe7ef8d",
   "metadata": {},
   "source": [
    "We can use the data about this run to calculate some additional statistics.\n",
    "We can look at the data we have."
   ]
  },
  {
   "cell_type": "code",
   "execution_count": null,
   "id": "952840f2",
   "metadata": {},
   "outputs": [],
   "source": [
    "df"
   ]
  },
  {
   "cell_type": "code",
   "execution_count": null,
   "id": "86c2c184",
   "metadata": {},
   "outputs": [],
   "source": [
    "from aplanat import graphics\n",
    "\n",
    "summary = graphics.InfoGraphItems()\n",
    "summary.append(label='Total reads', value=len(df.name.unique()), icon='angle-up', unit='')\n",
    "summary.append('Total yield', df.read_length.sum(), 'signal', 'b')\n",
    "summary.append('Mean read length', df.read_length.sum()/len(df.name.unique()), 'align-center', 'b')\n",
    "summary.append('Mean read identity', df.iden.mean(), 'thumbs-up')\n",
    "summary.append('Mean read accuracy', df.acc.mean(), 'thumbs-down')\n",
    "plot = graphics.infographic(summary.values())\n",
    "aplanat.show(plot, background='#f4f4f4')"
   ]
  },
  {
   "cell_type": "markdown",
   "id": "d732fb9e",
   "metadata": {},
   "source": [
    "These plots and figures are for simluated data - the are not the same as you will see for your real data!"
   ]
  },
  {
   "cell_type": "markdown",
   "id": "fef5c185",
   "metadata": {},
   "source": [
    "## Plotting depth of coverage across a BAM file with Mosdepth\n",
    "\n",
    "A very common requirement is to investigate the depth of coverage across the genome, i.e. the number of reads on average overlapping any given locus. This may be in order to determine how well a sequencing run performed in terms of on-target throughput, to check if we have enough depth of coverage to support variant calling, or to find out if there are any areas of the genome that have been under-represented in our sequencing run.\n",
    "\n",
    "Whilst samtools does provide tools for performing these checks, mosdepth is simpler to use whilst also being faster, making it a natural choice for running coverage analysis.\n",
    "\n",
    "Fundamentally mosdepth accepts a BAM file and in turn creates several output files containing coverage information. Before we look at those, let's go over the command we'll run:\n",
    "\n",
    "mosdepth is the base command,\n",
    "-n means don't output per base coverage information, as it is unneeded, instead mosdepth will output coverage by intervals,\n",
    "--by sets the interval size,\n",
    "--fast-mode makes some performance optimizations,\n",
    "test_cov is the name we'll give to mosdepth to prefix our output files with.\n",
    "sorted.reads_reference.bam is our trusty BAM which will be analysed."
   ]
  },
  {
   "cell_type": "code",
   "execution_count": null,
   "id": "407a8afa-9180-443a-b63d-fa8a78fc7541",
   "metadata": {},
   "outputs": [],
   "source": [
    "!mosdepth -n --fast-mode --by 100 test_cov sorted.reads_reference.bam"
   ]
  },
  {
   "cell_type": "markdown",
   "id": "edf33464",
   "metadata": {},
   "source": [
    "## Plotting Coverage\n",
    "\n",
    "To plot the coverage we are going to use some python code to visualise everything. Yes this is a bit complex - but you don't need all the details."
   ]
  },
  {
   "cell_type": "code",
   "execution_count": null,
   "id": "8e384b49-1801-4619-b725-5b1afa901936",
   "metadata": {},
   "outputs": [],
   "source": [
    "cumulative_depth = pd.read_csv(\n",
    "    'test_cov.mosdepth.region.dist.txt', sep='\\t',\n",
    "    names=['ref', 'depth', 'proportion'])\n",
    "\n",
    "binned_depth = pd.read_csv(\n",
    "    'test_cov.regions.bed.gz', sep='\\t',\n",
    "    names=['ref', 'start', 'end', 'depth'])\n",
    "\n",
    "def make_coverage_plot(cumulative_depth, binned_depth):\n",
    "    # Plot the proportion of the genome at coverage levels\n",
    "    p1 = steps(\n",
    "        [cumulative_depth[cumulative_depth['ref'].eq(binned_depth['ref'].unique()[0])]['depth']],\n",
    "        [cumulative_depth[cumulative_depth['ref'].eq(binned_depth['ref'].unique()[0])]['proportion']],\n",
    "        colors=['darkolivegreen'],\n",
    "        x_axis_label='Depth of coverage',\n",
    "        y_axis_label='Proportion of genome at coverage',\n",
    "        title=binned_depth['ref'].unique()[0])\n",
    "    \n",
    "    # Plot the binned coverage levels across the genome\n",
    "    \n",
    "    p2 = steps(\n",
    "        [binned_depth[binned_depth['ref'].eq(binned_depth['ref'].unique()[0])]['start']],\n",
    "        [binned_depth[binned_depth['ref'].eq(binned_depth['ref'].unique()[0])]['depth']],\n",
    "        colors=['darkolivegreen'],\n",
    "        x_axis_label='Position along reference',\n",
    "        y_axis_label='sequencing depth / bases',\n",
    "        title=binned_depth['ref'].unique()[0])\n",
    "    p2.xaxis.formatter.use_scientific = False\n",
    "    \n",
    "    p3 = steps(\n",
    "        [cumulative_depth[cumulative_depth['ref'].eq(binned_depth['ref'].unique()[1])]['depth']],\n",
    "        [cumulative_depth[cumulative_depth['ref'].eq(binned_depth['ref'].unique()[1])]['proportion']],\n",
    "        colors=['darkblue'],\n",
    "        x_axis_label='Depth of coverage',\n",
    "        y_axis_label='Proportion of genome at coverage',\n",
    "        title=binned_depth['ref'].unique()[1])\n",
    "\n",
    "    \n",
    "    # Plot the binned coverage levels across the genome\n",
    "    \n",
    "    p4 = steps(\n",
    "        [binned_depth[binned_depth['ref'].eq(binned_depth['ref'].unique()[1])]['start']],\n",
    "        [binned_depth[binned_depth['ref'].eq(binned_depth['ref'].unique()[1])]['depth']],\n",
    "        colors=['darkblue'],\n",
    "        x_axis_label='Position along reference',\n",
    "        y_axis_label='sequencing depth / bases',\n",
    "        title=binned_depth['ref'].unique()[1])\n",
    "    p4.xaxis.formatter.use_scientific = False\n",
    "    return gridplot((p1, p2,p3,p4), ncols=2)\n",
    "\n",
    "aplanat.show(make_coverage_plot(cumulative_depth, binned_depth), background=\"#f4f4f4\")"
   ]
  },
  {
   "cell_type": "markdown",
   "id": "3440f45b-4917-499a-bcfb-0cf3485e402b",
   "metadata": {},
   "source": [
    "Hold on!\n",
    "\n",
    "The observant amongst you will realise that this tells tells us roughly where our recombinants are! But we want to examine this in more detail. You can use the interactive features of the plots above to zoom in and get a better idea of where the coverage profiles switch. But we really want a higher resolution plot of some kind.\n",
    "\n",
    "\n",
    "We could do this by changing the mosdepth parameters above (see the --by value). Perhaps play with that a bit and see if you can get better resolution.\n",
    "\n",
    "But there is another way we can look."
   ]
  },
  {
   "cell_type": "code",
   "execution_count": null,
   "id": "fd72c929-efc8-4d69-b469-6f71c28db423",
   "metadata": {},
   "outputs": [],
   "source": [
    "from igv_jupyterlab import IGV\n",
    "import os\n",
    "user = os.getenv('JUPYTERHUB_USER')\n",
    "\n",
    "url=f\"http://10.157.200.14/user/{user}/tree/UnderGradProjectTest/\"\n",
    "bams={'results':'sorted.reads_reference.bam'}\n",
    "track_list=[\n",
    "            {\"name\": \"HMerge\",\n",
    "                \"url\": url+\"data/refs/merge.gff3\",\n",
    "                \"format\": \"gff3\",\n",
    "                \"type\": \"annotation\",\n",
    "                \"displayMode\": \"expanded\",\n",
    "                \"height\":120,\n",
    "                \"indexed\": False }\n",
    "]\n",
    "colors=['orange','green','gray']\n",
    "i=0\n",
    "for b in bams:\n",
    "    d = {\"name\": b,\n",
    "        \"url\":url+bams[b],\n",
    "        \"type\": \"alignment\",\n",
    "         \"displayMode\":\"SQUISHED\",\n",
    "         \"height\":400,\n",
    "         \"removable\":True,\n",
    "         #\"color\":colors[i],\n",
    "        \"indexed\": True }\n",
    "    track_list.append(d)\n",
    "    i+=1\n",
    "    \n",
    "genome = IGV.create_genome(\n",
    "    name=\"merged_refs\",   \n",
    "    fasta_url=url+'data/refs/merged_refs.fasta',\n",
    "    index_url=url+ 'data/refs/merged_refs.fasta.fai',\n",
    "    tracks=track_list\n",
    ")\n",
    "\n",
    "#create the widget\n",
    "igv = IGV(genome=genome)\n",
    "\n",
    "\n",
    "display(igv)"
   ]
  },
  {
   "cell_type": "markdown",
   "id": "11bfc2e7",
   "metadata": {},
   "source": [
    "## Explore the data\n",
    "\n",
    "Using the plots above you should be able to find the approximate coordinates where the reads switch from one reference to another."
   ]
  },
  {
   "cell_type": "code",
   "execution_count": null,
   "id": "e3b7e03a-c9f0-4fdd-98f5-b8c92e0c4490",
   "metadata": {},
   "outputs": [],
   "source": [
    "\n",
    "bams={'results':'sorted.reads_reference.bam'}\n",
    "track_list=[\n",
    "            {\"name\": \"HMerge\",\n",
    "                \"url\": url+\"data/refs/merge.gff3\",\n",
    "                \"format\": \"gff3\",\n",
    "                #\"type\": \"annotation\",\n",
    "                \"displayMode\": \"expanded\",\n",
    "                \"height\":120,\n",
    "                \"indexed\": False }\n",
    "]\n",
    "colors=['orange','green','gray']\n",
    "i=0\n",
    "for b in bams:\n",
    "    d = {\"name\": b,\n",
    "        \"url\":url+bams[b],\n",
    "        \"type\": \"alignment\",\n",
    "         \"displayMode\":\"SQUISHED\",\n",
    "         \"height\":500,\n",
    "         \"removable\":True,\n",
    "         #\"color\":colors[i],\n",
    "        \"indexed\": True }\n",
    "    track_list.append(d)\n",
    "    i+=1\n",
    "    \n",
    "genome2 = IGV.create_genome(\n",
    "    name=\"custom_reference\",   \n",
    "    fasta_url=url+'data/refs/merged_refs.fasta',\n",
    "    index_url=url+ 'data/refs/merged_refs.fasta.fai',\n",
    "    tracks=track_list\n",
    ")\n",
    "\n",
    "#create the widget\n",
    "igv2 = IGV(genome=genome2)\n",
    "igv2.locus = \"NC_013967.1:1-10000\"\n",
    "#igv.search_locus('NC_013967.1',1,100000)\n",
    "display(igv2)"
   ]
  },
  {
   "cell_type": "markdown",
   "id": "055e20c9",
   "metadata": {},
   "source": [
    "## What about assembly?\n",
    "\n",
    "Assembly is the process of generating a sequence from our reads - we can use a tool called \"Flye\" to do this for us - see https://github.com/fenderglass/Flye for info."
   ]
  },
  {
   "cell_type": "code",
   "execution_count": null,
   "id": "99ab812e-0892-4f72-9bc3-62eba8315da6",
   "metadata": {
    "scrolled": true
   },
   "outputs": [],
   "source": [
    "!flye"
   ]
  },
  {
   "cell_type": "code",
   "execution_count": null,
   "id": "7210e665-2e35-4631-a7eb-68d3638d6519",
   "metadata": {
    "scrolled": false
   },
   "outputs": [],
   "source": [
    "!flye --threads 4 --out-dir assembly --nano-hq $reads"
   ]
  },
  {
   "cell_type": "markdown",
   "id": "6f81b9a2",
   "metadata": {},
   "source": [
    "This assembly gives us some information that might be useful to us. Have a look at the assembly statistics. What do they mean?\n"
   ]
  },
  {
   "cell_type": "markdown",
   "id": "65e7ef2c",
   "metadata": {},
   "source": [
    "We can use a tool called last (made up of programs including lastdb, lastal and last-dotplot) to have a look at our assembly compared with the reference genomes."
   ]
  },
  {
   "cell_type": "code",
   "execution_count": null,
   "id": "da753e03-5837-4c9e-a9f4-3a9e61eaff08",
   "metadata": {},
   "outputs": [],
   "source": [
    "!lastdb merge_refdb $reference"
   ]
  },
  {
   "cell_type": "code",
   "execution_count": null,
   "id": "d9936d9a-0b42-4388-9565-16715e2ad8b3",
   "metadata": {},
   "outputs": [],
   "source": [
    "!lastal --split merge_refdb assembly/assembly.fasta > test.maf\n"
   ]
  },
  {
   "cell_type": "code",
   "execution_count": null,
   "id": "6a87b0aa",
   "metadata": {
    "scrolled": true
   },
   "outputs": [],
   "source": [
    "!lastal -h\n"
   ]
  },
  {
   "cell_type": "code",
   "execution_count": null,
   "id": "2a60b6f7-f99f-4fa3-903c-a9563d609cb6",
   "metadata": {},
   "outputs": [],
   "source": [
    "!last-dotplot  -v test.maf test.png"
   ]
  },
  {
   "cell_type": "code",
   "execution_count": null,
   "id": "a6b735cc",
   "metadata": {
    "scrolled": true
   },
   "outputs": [],
   "source": [
    "!last-dotplot -h\n"
   ]
  },
  {
   "cell_type": "code",
   "execution_count": null,
   "id": "5c3c87c8",
   "metadata": {},
   "outputs": [],
   "source": [
    "from IPython.display import Image\n",
    "Image(\"test.png\")"
   ]
  },
  {
   "cell_type": "markdown",
   "id": "7e6e442d",
   "metadata": {},
   "source": [
    "## Using last to look at read mappings.\n",
    "\n",
    "Can we use the last tool to look at our read mappings in more detail?\n",
    "\n",
    "This is a bit problematic because last requires a fasta file and we have all our reads as fastq files.\n",
    "\n",
    "So we need to convert all our fastq into fasta.\n",
    "\n",
    "How?\n"
   ]
  },
  {
   "cell_type": "code",
   "execution_count": null,
   "id": "e6142c68",
   "metadata": {},
   "outputs": [],
   "source": [
    "print (reads)"
   ]
  },
  {
   "cell_type": "markdown",
   "id": "809a8518",
   "metadata": {},
   "source": [
    "The zcat command will combine all our fastq files into one big fastq file."
   ]
  },
  {
   "cell_type": "code",
   "execution_count": null,
   "id": "0edb71cf",
   "metadata": {},
   "outputs": [],
   "source": [
    "!zcat $reads > allreads.fastq"
   ]
  },
  {
   "cell_type": "markdown",
   "id": "eacb993e",
   "metadata": {},
   "source": [
    "Now we use a special command called \"sed\" to edit our file."
   ]
  },
  {
   "cell_type": "code",
   "execution_count": null,
   "id": "294bb49e",
   "metadata": {},
   "outputs": [],
   "source": [
    "!sed -n '1~4s/^@/>/p;2~4p'  allreads.fastq > allreads.fasta"
   ]
  },
  {
   "cell_type": "code",
   "execution_count": null,
   "id": "616293cb",
   "metadata": {},
   "outputs": [],
   "source": [
    "!lastal --split -m 1 merge_refdb allreads.fasta > reads_last.maf"
   ]
  },
  {
   "cell_type": "markdown",
   "id": "c1ac11cb",
   "metadata": {},
   "source": [
    "Now we are going to use a program called dnarrange to find all the reads which map to both references.\n",
    "\n",
    "You can read about dnarrange here - https://github.com/mcfrith/dnarrange"
   ]
  },
  {
   "cell_type": "code",
   "execution_count": null,
   "id": "a4f1bfe2",
   "metadata": {},
   "outputs": [],
   "source": [
    "!dnarrange reads_last.maf > groups0.maf"
   ]
  },
  {
   "cell_type": "code",
   "execution_count": null,
   "id": "cd62b627",
   "metadata": {},
   "outputs": [],
   "source": [
    "!dnarrange -h\n"
   ]
  },
  {
   "cell_type": "code",
   "execution_count": null,
   "id": "4c19a9cd",
   "metadata": {},
   "outputs": [],
   "source": [
    "!head -100 groups0.maf"
   ]
  },
  {
   "cell_type": "code",
   "execution_count": null,
   "id": "27a7781f",
   "metadata": {},
   "outputs": [],
   "source": [
    "!dnarrange-link groups0.maf > linked.txt"
   ]
  },
  {
   "cell_type": "code",
   "execution_count": null,
   "id": "ec6c50b0",
   "metadata": {},
   "outputs": [],
   "source": [
    "!head linked.txt\n"
   ]
  },
  {
   "cell_type": "markdown",
   "id": "210f2a7f",
   "metadata": {},
   "source": [
    "These coordinates (above) should give us the approximate regions to look at in the IGV outputs to find our recombinants.\n",
    "\n",
    "When this has been run before it gave the following outputs:\n",
    "\n",
    "/# PART 1\n",
    "\n",
    "\n",
    "der1\n",
    "\n",
    "CP001868.2\t324403\t<\t327666\n",
    "\n",
    "NC_013967.1\t329564\t<\t731435\n",
    "\n",
    "CP001868.2\t737775\t<\t765441\n",
    "\n",
    "To check these simply enter the following coordinates in the IGV viewer above:\n",
    "\n",
    "CP001868.2:324403-327666\n",
    "\n",
    "NC_013967.1:329564-731435\n",
    "\n",
    "CP001868.2:737775-765441"
   ]
  },
  {
   "cell_type": "code",
   "execution_count": null,
   "id": "4777c8a1",
   "metadata": {},
   "outputs": [],
   "source": []
  },
  {
   "cell_type": "code",
   "execution_count": null,
   "id": "386f6455",
   "metadata": {},
   "outputs": [],
   "source": []
  }
 ],
 "metadata": {
  "kernelspec": {
   "display_name": "Python 3 (ipykernel)",
   "language": "python",
   "name": "python3"
  },
  "language_info": {
   "codemirror_mode": {
    "name": "ipython",
    "version": 3
   },
   "file_extension": ".py",
   "mimetype": "text/x-python",
   "name": "python",
   "nbconvert_exporter": "python",
   "pygments_lexer": "ipython3",
   "version": "3.9.13"
  }
 },
 "nbformat": 4,
 "nbformat_minor": 5
}
